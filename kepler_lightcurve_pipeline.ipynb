{
  "cells": [
    {
      "cell_type": "markdown",
      "metadata": {
        "id": "view-in-github",
        "colab_type": "text"
      },
      "source": [
        "<a href=\"https://colab.research.google.com/github/joaopferreirajunior/neuralize_nasaspaceapps2025/blob/main/kepler_lightcurve_pipeline.ipynb\" target=\"_parent\"><img src=\"https://colab.research.google.com/assets/colab-badge.svg\" alt=\"Open In Colab\"/></a>"
      ]
    },
    {
      "cell_type": "markdown",
      "id": "c8363158",
      "metadata": {
        "id": "c8363158"
      },
      "source": [
        "Light Curve Analysis with Real Data from the Kepler Mission\n",
        "This notebook loads a set of 1000 targets from the Kepler mission, equally divided into:\n",
        "\n",
        "confirmed exoplanets\n",
        "\n",
        "exoplanet candidates\n",
        "\n",
        "The data was extracted directly from NASA’s official archive (Exoplanet Archive) and saved in the CSV file filtered_kepler_targets_confirmed_candidate.csv, based on the koi_disposition column.\n",
        "\n",
        "The goal is to retrieve light curves for these targets and analyze them for future classification experiments."
      ]
    },
    {
      "cell_type": "code",
      "source": [
        "from google.colab import drive\n",
        "drive.mount('/content/drive')"
      ],
      "metadata": {
        "colab": {
          "base_uri": "https://localhost:8080/"
        },
        "id": "utwSujxQDnDH",
        "outputId": "5ab0430b-91f6-4d58-f54e-133e77cb3aa1"
      },
      "id": "utwSujxQDnDH",
      "execution_count": null,
      "outputs": [
        {
          "output_type": "stream",
          "name": "stdout",
          "text": [
            "Mounted at /content/drive\n"
          ]
        }
      ]
    },
    {
      "cell_type": "code",
      "execution_count": null,
      "id": "c485d3f9",
      "metadata": {
        "id": "c485d3f9"
      },
      "outputs": [],
      "source": [
        "!pip install lightkurve --quiet\n",
        "import os\n",
        "import pandas as pd\n",
        "import lightkurve as lk\n",
        "import matplotlib.pyplot as plt\n",
        "from astropy.timeseries import BoxLeastSquares\n",
        "\n",
        "plt.rcParams['figure.figsize'] = (8, 4)\n",
        "plt.rcParams['figure.dpi'] = 120\n",
        "\n",
        "DATA_CSV = \"/content/drive/MyDrive/filtered_kepler_targets_confirmed_candidate.csv\"\n",
        "OUTPUT_DIR = \"outputs\"\n",
        "os.makedirs(OUTPUT_DIR, exist_ok=True)\n"
      ]
    },
    {
      "cell_type": "code",
      "execution_count": null,
      "id": "5a5d320b",
      "metadata": {
        "id": "5a5d320b"
      },
      "outputs": [],
      "source": [
        "\n",
        "df = pd.read_csv(DATA_CSV, comment=\"#\")\n",
        "df = df[df['kepid'].notnull()]\n",
        "df['kepid'] = df['kepid'].astype(int).astype(str)\n",
        "print(f\"Total de alvos disponíveis: {len(df)}\")\n",
        "df[['kepid', 'koi_disposition']].head()\n"
      ]
    },
    {
      "cell_type": "code",
      "execution_count": null,
      "id": "e93002c9",
      "metadata": {
        "id": "e93002c9"
      },
      "outputs": [],
      "source": [
        "\n",
        "targets = df['kepid'].tolist()\n",
        "downloaded = []\n",
        "\n",
        "for target in targets:\n",
        "    try:\n",
        "        search_result = lk.search_lightcurve(target, mission='Kepler')\n",
        "        if len(search_result) > 0:\n",
        "            lc = search_result.download()\n",
        "            lc.to_fits(os.path.join(OUTPUT_DIR, f\"{target}.fits\"), overwrite=True)\n",
        "            downloaded.append(target)\n",
        "    except Exception as e:\n",
        "        print(f\"Erro com {target}: {e}\")\n",
        "\n",
        "print(f\"Total de curvas salvas: {len(downloaded)}\")\n"
      ]
    },
    {
      "cell_type": "code",
      "source": [
        "import os, glob\n",
        "import numpy as np\n",
        "import pandas as pd\n",
        "import matplotlib.pyplot as plt\n",
        "import lightkurve as lk\n",
        "from astropy.timeseries import BoxLeastSquares\n",
        "from astropy import units as u\n",
        "\n",
        "FITS_DIR = \"/content/outputs\"\n",
        "\n",
        "fits_files = glob.glob(os.path.join(FITS_DIR, \"*.fits\"))\n",
        "print(f\"{len(fits_files)} curvas encontradas.\")\n",
        "\n",
        "results = []\n",
        "\n",
        "for path in fits_files:\n",
        "    try:\n",
        "        lc0 = lk.read(path).remove_nans()\n",
        "\n",
        "\n",
        "        flux = lc0.flux\n",
        "        if str(flux.unit) == \"electron / s\":\n",
        "            flux = flux.value * (u.electron/u.s)  # nova unidade válida\n",
        "\n",
        "\n",
        "        lc = lk.LightCurve(time=lc0.time, flux=flux)\n",
        "\n",
        "\n",
        "        lc = lc.normalize().remove_outliers()\n",
        "\n",
        "\n",
        "        period_grid = np.linspace(0.5, 20, 10000)\n",
        "        model = BoxLeastSquares(lc.time, lc.flux)\n",
        "        bls_result = model.power(period_grid, 0.1)\n",
        "        best_period = bls_result.period[np.argmax(bls_result.power)]\n",
        "\n",
        "\n",
        "        target_id = os.path.basename(path).replace(\".fits\", \"\")\n",
        "        fig = lc.fold(period=best_period).scatter()\n",
        "        plt.title(f\"{target_id} - Period: {best_period:.3f} days\")\n",
        "        fig.figure.savefig(os.path.join(FITS_DIR, f\"{target_id}_folded.png\"))\n",
        "        plt.close()\n",
        "\n",
        "        results.append({\"target\": target_id,\n",
        "                        \"period\": best_period,\n",
        "                        \"power\": np.max(bls_result.power)})\n",
        "\n",
        "    except Exception as e:\n",
        "        print(f\"Erro ao processar {path}: {e}\")\n",
        "\n",
        "\n",
        "df_results = pd.DataFrame(results)\n",
        "df_results.to_csv(os.path.join(FITS_DIR, \"results_batch.csv\"), index=False)\n",
        "print(\"Processamento finalizado.\")\n"
      ],
      "metadata": {
        "id": "YeVh5FubawTh"
      },
      "id": "YeVh5FubawTh",
      "execution_count": null,
      "outputs": []
    },
    {
      "cell_type": "code",
      "execution_count": null,
      "id": "5d7fa383",
      "metadata": {
        "id": "5d7fa383"
      },
      "outputs": [],
      "source": [
        "\n",
        "for i, target in enumerate(downloaded[:5]):\n",
        "    try:\n",
        "        lc = lk.read(os.path.join(OUTPUT_DIR, f\"{target}.fits\"))\n",
        "        lc = lc.normalize().remove_outliers()\n",
        "        lc.plot()\n",
        "        plt.title(f\"Target {target}\")\n",
        "        plt.savefig(os.path.join(OUTPUT_DIR, f\"{target}_lightcurve.png\"))\n",
        "        plt.close()\n",
        "    except Exception as e:\n",
        "        print(f\"Erro ao processar {target}: {e}\")\n"
      ]
    },
    {
      "cell_type": "code",
      "execution_count": null,
      "id": "291589c5",
      "metadata": {
        "id": "291589c5"
      },
      "outputs": [],
      "source": [
        "\n",
        "df_downloaded = df[df['kepid'].isin(downloaded)]\n",
        "df_downloaded.to_csv(os.path.join(OUTPUT_DIR, \"results_batch.csv\"), index=False)\n",
        "df_downloaded.head()\n"
      ]
    },
    {
      "cell_type": "code",
      "source": [
        "import shutil\n",
        "\n",
        "shutil.make_archive(\"/content/outputs_backup\", 'zip', \"/content/outputs\")"
      ],
      "metadata": {
        "id": "nrOLrGQFcy6E"
      },
      "id": "nrOLrGQFcy6E",
      "execution_count": null,
      "outputs": []
    },
    {
      "cell_type": "code",
      "source": [
        "from google.colab import files\n",
        "\n",
        "files.download(\"/content/outputs_backup.zip\")"
      ],
      "metadata": {
        "id": "Q-B2Eh63c1PB"
      },
      "id": "Q-B2Eh63c1PB",
      "execution_count": null,
      "outputs": []
    }
  ],
  "metadata": {
    "colab": {
      "provenance": [],
      "machine_shape": "hm",
      "gpuType": "V6E1",
      "include_colab_link": true
    },
    "language_info": {
      "name": "python"
    },
    "kernelspec": {
      "name": "python3",
      "display_name": "Python 3"
    },
    "accelerator": "TPU"
  },
  "nbformat": 4,
  "nbformat_minor": 5
}